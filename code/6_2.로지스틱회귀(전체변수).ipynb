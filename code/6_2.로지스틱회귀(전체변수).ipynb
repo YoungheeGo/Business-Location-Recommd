{
 "cells": [
  {
   "cell_type": "code",
   "execution_count": 1,
   "metadata": {},
   "outputs": [],
   "source": [
    "import geopandas as gpd\n",
    "from shapely.geometry import Point\n",
    "import pandas as pd\n",
    "import numpy as np\n",
    "import fiona\n",
    "import seaborn as sns  \n",
    "import matplotlib.pyplot as plt\n",
    "from statsmodels.stats.outliers_influence import variance_inflation_factor\n",
    "import os\n",
    "import statsmodels.api as sm\n",
    "from sklearn.model_selection import train_test_split\n",
    "from sklearn.metrics import mean_squared_error\n",
    "\n",
    "%matplotlib inline\n",
    "import matplotlib.pyplot as plt\n",
    "import seaborn as sns\n",
    "from matplotlib import colors\n",
    "\n",
    "from pysal.lib  import weights\n",
    "from esda.moran import Moran, Moran_Local\n",
    "\n",
    "from splot.esda import moran_scatterplot,lisa_cluster, plot_local_autocorrelation"
   ]
  },
  {
   "cell_type": "markdown",
   "metadata": {},
   "source": [
    "### 축약한 변수들의 로지스틱 회귀분석(핫스팟)은  traffic, medical, landmark, population, store이 유의했다. 하지만 그 안의 세부적인 변수들에 대한 유의성도 알아보고자 전체 변수를 사용한 로지스틱 회귀분석(핫스팟)을 시행했다.  "
   ]
  },
  {
   "cell_type": "markdown",
   "metadata": {},
   "source": [
    "## 사용할 데이터: fin_df_hot(핫스팟 포함한 데이터)"
   ]
  },
  {
   "cell_type": "code",
   "execution_count": 2,
   "metadata": {},
   "outputs": [],
   "source": [
    "fin_df=gpd.read_file('fin_df_hot.geojson')"
   ]
  },
  {
   "cell_type": "code",
   "execution_count": 3,
   "metadata": {},
   "outputs": [
    {
     "data": {
      "text/plain": [
       "Index(['gid500', 'all_cnt', 'old_cnt', 'adult_cnt', 'young_cnt', '건물연면적',\n",
       "       'ws_cnt', 'found_age_1', 'found_age_2', 'found_age_3', 'found_age_4',\n",
       "       'found_age_5', 'found_age_6', 'runout_cnt', 'smbiz_yn_cnt',\n",
       "       'rpr_per_gender_m', 'rpr_per_gender_f', 'rpr_per_age_bin_10',\n",
       "       'rpr_per_age_bin_20', 'rpr_per_age_bin_30to50',\n",
       "       'rpr_per_age_bin_50over', 'sme_loan_cnt', 'sme_loan_y_1',\n",
       "       'sme_loan_y_2', 'sme_loan_y_3', 'sme_loan_y_4', 'sme_loan_y_5',\n",
       "       'sme_loan_y_6', 'sales_est_amt_201703', 'sales_est_amt_201706',\n",
       "       'sales_est_amt_201709', 'sales_est_amt_201712', 'sales_est_amt_201803',\n",
       "       'sales_est_amt_201806', 'sales_est_amt_201809', 'sales_est_amt_201812',\n",
       "       'sales_est_amt_201903', 'sales_est_amt_201906', 'sales_est_amt_201909',\n",
       "       'sales_est_amt_201912', 'sales_est_amt_202003', 'sales_est_amt_202006',\n",
       "       'sales_est_amt_202009', 'age10_ratio', 'age20_ratio', 'age30_ratio',\n",
       "       'age40_ratio', 'age50_ratio', 'age60_ratio', 'age70_ratio',\n",
       "       'cnt_market', 'cnt_busstop', 'cnt_subway', 'cnt_clinic', 'cnt_hospital',\n",
       "       'cnt_element_s', 'cnt_middles_s', 'cnt_high_s', 'cnt_university',\n",
       "       'cnt_landmark', 'traffic', 'schools', 'medical', 'landmark',\n",
       "       'population', 'store', 'y_매출액평균', 'y_분기별매출액평균_03', 'y_분기별매출액평균_06',\n",
       "       'y_분기별매출액평균_09', 'y_분기별매출액평균_12', 'y_연도별매출액평균_17', 'y_연도별매출액평균_18',\n",
       "       'y_연도별매출액평균_19', 'y_연도별매출액평균_20', 'sales_est_amt_total', 'hotspot',\n",
       "       'geometry'],\n",
       "      dtype='object')"
      ]
     },
     "execution_count": 3,
     "metadata": {},
     "output_type": "execute_result"
    }
   ],
   "source": [
    "fin_df.columns"
   ]
  },
  {
   "cell_type": "code",
   "execution_count": 5,
   "metadata": {},
   "outputs": [],
   "source": [
    "#분석용 데이터프레임\n",
    "final=fin_df[['gid500','geometry','all_cnt', 'old_cnt', 'adult_cnt', 'young_cnt', '건물연면적',\n",
    "       'ws_cnt','cnt_market', 'cnt_busstop', 'cnt_subway', 'cnt_clinic', 'cnt_hospital',\n",
    "       'cnt_element_s', 'cnt_middles_s', 'cnt_high_s', 'cnt_university',\n",
    "       'cnt_landmark','y_매출액평균',\n",
    "        'y_분기별매출액평균_03','y_분기별매출액평균_06','y_분기별매출액평균_09','y_분기별매출액평균_12',\n",
    "    'y_연도별매출액평균_17','y_연도별매출액평균_18','y_연도별매출액평균_19','y_연도별매출액평균_20','hotspot']]"
   ]
  },
  {
   "cell_type": "code",
   "execution_count": 6,
   "metadata": {},
   "outputs": [
    {
     "data": {
      "text/html": [
       "<div>\n",
       "<style scoped>\n",
       "    .dataframe tbody tr th:only-of-type {\n",
       "        vertical-align: middle;\n",
       "    }\n",
       "\n",
       "    .dataframe tbody tr th {\n",
       "        vertical-align: top;\n",
       "    }\n",
       "\n",
       "    .dataframe thead th {\n",
       "        text-align: right;\n",
       "    }\n",
       "</style>\n",
       "<table border=\"1\" class=\"dataframe\">\n",
       "  <thead>\n",
       "    <tr style=\"text-align: right;\">\n",
       "      <th></th>\n",
       "      <th>gid500</th>\n",
       "      <th>geometry</th>\n",
       "      <th>all_cnt</th>\n",
       "      <th>old_cnt</th>\n",
       "      <th>adult_cnt</th>\n",
       "      <th>young_cnt</th>\n",
       "      <th>건물연면적</th>\n",
       "      <th>ws_cnt</th>\n",
       "      <th>cnt_market</th>\n",
       "      <th>cnt_busstop</th>\n",
       "      <th>...</th>\n",
       "      <th>y_매출액평균</th>\n",
       "      <th>y_분기별매출액평균_03</th>\n",
       "      <th>y_분기별매출액평균_06</th>\n",
       "      <th>y_분기별매출액평균_09</th>\n",
       "      <th>y_분기별매출액평균_12</th>\n",
       "      <th>y_연도별매출액평균_17</th>\n",
       "      <th>y_연도별매출액평균_18</th>\n",
       "      <th>y_연도별매출액평균_19</th>\n",
       "      <th>y_연도별매출액평균_20</th>\n",
       "      <th>hotspot</th>\n",
       "    </tr>\n",
       "  </thead>\n",
       "  <tbody>\n",
       "    <tr>\n",
       "      <th>0</th>\n",
       "      <td>다바66a99a</td>\n",
       "      <td>POLYGON ((127.11743 37.08901, 127.11741 37.093...</td>\n",
       "      <td>0.0</td>\n",
       "      <td>0.0</td>\n",
       "      <td>0.0</td>\n",
       "      <td>0.0</td>\n",
       "      <td>0.00</td>\n",
       "      <td>0.0</td>\n",
       "      <td>0</td>\n",
       "      <td>0</td>\n",
       "      <td>...</td>\n",
       "      <td>0.0</td>\n",
       "      <td>0.0</td>\n",
       "      <td>0.0</td>\n",
       "      <td>0.0</td>\n",
       "      <td>0.0</td>\n",
       "      <td>0.0</td>\n",
       "      <td>0.0</td>\n",
       "      <td>0.0</td>\n",
       "      <td>0.0</td>\n",
       "      <td>0.0</td>\n",
       "    </tr>\n",
       "    <tr>\n",
       "      <th>1</th>\n",
       "      <td>다바66a99b</td>\n",
       "      <td>POLYGON ((127.11741 37.09352, 127.11738 37.098...</td>\n",
       "      <td>0.0</td>\n",
       "      <td>0.0</td>\n",
       "      <td>0.0</td>\n",
       "      <td>0.0</td>\n",
       "      <td>0.00</td>\n",
       "      <td>0.0</td>\n",
       "      <td>0</td>\n",
       "      <td>1</td>\n",
       "      <td>...</td>\n",
       "      <td>0.0</td>\n",
       "      <td>0.0</td>\n",
       "      <td>0.0</td>\n",
       "      <td>0.0</td>\n",
       "      <td>0.0</td>\n",
       "      <td>0.0</td>\n",
       "      <td>0.0</td>\n",
       "      <td>0.0</td>\n",
       "      <td>0.0</td>\n",
       "      <td>0.0</td>\n",
       "    </tr>\n",
       "    <tr>\n",
       "      <th>2</th>\n",
       "      <td>다바66b99a</td>\n",
       "      <td>POLYGON ((127.12306 37.08903, 127.12303 37.093...</td>\n",
       "      <td>88.0</td>\n",
       "      <td>13.0</td>\n",
       "      <td>56.0</td>\n",
       "      <td>0.0</td>\n",
       "      <td>1781.97</td>\n",
       "      <td>0.0</td>\n",
       "      <td>0</td>\n",
       "      <td>1</td>\n",
       "      <td>...</td>\n",
       "      <td>0.0</td>\n",
       "      <td>0.0</td>\n",
       "      <td>0.0</td>\n",
       "      <td>0.0</td>\n",
       "      <td>0.0</td>\n",
       "      <td>0.0</td>\n",
       "      <td>0.0</td>\n",
       "      <td>0.0</td>\n",
       "      <td>0.0</td>\n",
       "      <td>0.0</td>\n",
       "    </tr>\n",
       "    <tr>\n",
       "      <th>3</th>\n",
       "      <td>다바66b99b</td>\n",
       "      <td>POLYGON ((127.12303 37.09353, 127.12301 37.098...</td>\n",
       "      <td>0.0</td>\n",
       "      <td>0.0</td>\n",
       "      <td>0.0</td>\n",
       "      <td>0.0</td>\n",
       "      <td>182.80</td>\n",
       "      <td>0.0</td>\n",
       "      <td>0</td>\n",
       "      <td>0</td>\n",
       "      <td>...</td>\n",
       "      <td>0.0</td>\n",
       "      <td>0.0</td>\n",
       "      <td>0.0</td>\n",
       "      <td>0.0</td>\n",
       "      <td>0.0</td>\n",
       "      <td>0.0</td>\n",
       "      <td>0.0</td>\n",
       "      <td>0.0</td>\n",
       "      <td>0.0</td>\n",
       "      <td>0.0</td>\n",
       "    </tr>\n",
       "    <tr>\n",
       "      <th>4</th>\n",
       "      <td>다바67a99a</td>\n",
       "      <td>POLYGON ((127.12868 37.08905, 127.12866 37.093...</td>\n",
       "      <td>0.0</td>\n",
       "      <td>0.0</td>\n",
       "      <td>0.0</td>\n",
       "      <td>0.0</td>\n",
       "      <td>0.00</td>\n",
       "      <td>0.0</td>\n",
       "      <td>0</td>\n",
       "      <td>0</td>\n",
       "      <td>...</td>\n",
       "      <td>0.0</td>\n",
       "      <td>0.0</td>\n",
       "      <td>0.0</td>\n",
       "      <td>0.0</td>\n",
       "      <td>0.0</td>\n",
       "      <td>0.0</td>\n",
       "      <td>0.0</td>\n",
       "      <td>0.0</td>\n",
       "      <td>0.0</td>\n",
       "      <td>0.0</td>\n",
       "    </tr>\n",
       "  </tbody>\n",
       "</table>\n",
       "<p>5 rows × 28 columns</p>\n",
       "</div>"
      ],
      "text/plain": [
       "     gid500                                           geometry  all_cnt  \\\n",
       "0  다바66a99a  POLYGON ((127.11743 37.08901, 127.11741 37.093...      0.0   \n",
       "1  다바66a99b  POLYGON ((127.11741 37.09352, 127.11738 37.098...      0.0   \n",
       "2  다바66b99a  POLYGON ((127.12306 37.08903, 127.12303 37.093...     88.0   \n",
       "3  다바66b99b  POLYGON ((127.12303 37.09353, 127.12301 37.098...      0.0   \n",
       "4  다바67a99a  POLYGON ((127.12868 37.08905, 127.12866 37.093...      0.0   \n",
       "\n",
       "   old_cnt  adult_cnt  young_cnt    건물연면적  ws_cnt  cnt_market  cnt_busstop  \\\n",
       "0      0.0        0.0        0.0     0.00     0.0           0            0   \n",
       "1      0.0        0.0        0.0     0.00     0.0           0            1   \n",
       "2     13.0       56.0        0.0  1781.97     0.0           0            1   \n",
       "3      0.0        0.0        0.0   182.80     0.0           0            0   \n",
       "4      0.0        0.0        0.0     0.00     0.0           0            0   \n",
       "\n",
       "   ...  y_매출액평균  y_분기별매출액평균_03  y_분기별매출액평균_06  y_분기별매출액평균_09  y_분기별매출액평균_12  \\\n",
       "0  ...      0.0            0.0            0.0            0.0            0.0   \n",
       "1  ...      0.0            0.0            0.0            0.0            0.0   \n",
       "2  ...      0.0            0.0            0.0            0.0            0.0   \n",
       "3  ...      0.0            0.0            0.0            0.0            0.0   \n",
       "4  ...      0.0            0.0            0.0            0.0            0.0   \n",
       "\n",
       "   y_연도별매출액평균_17  y_연도별매출액평균_18  y_연도별매출액평균_19  y_연도별매출액평균_20  hotspot  \n",
       "0            0.0            0.0            0.0            0.0      0.0  \n",
       "1            0.0            0.0            0.0            0.0      0.0  \n",
       "2            0.0            0.0            0.0            0.0      0.0  \n",
       "3            0.0            0.0            0.0            0.0      0.0  \n",
       "4            0.0            0.0            0.0            0.0      0.0  \n",
       "\n",
       "[5 rows x 28 columns]"
      ]
     },
     "execution_count": 6,
     "metadata": {},
     "output_type": "execute_result"
    }
   ],
   "source": [
    "final.head()"
   ]
  },
  {
   "cell_type": "code",
   "execution_count": 7,
   "metadata": {
    "scrolled": true
   },
   "outputs": [
    {
     "data": {
      "text/html": [
       "<div>\n",
       "<style scoped>\n",
       "    .dataframe tbody tr th:only-of-type {\n",
       "        vertical-align: middle;\n",
       "    }\n",
       "\n",
       "    .dataframe tbody tr th {\n",
       "        vertical-align: top;\n",
       "    }\n",
       "\n",
       "    .dataframe thead th {\n",
       "        text-align: right;\n",
       "    }\n",
       "</style>\n",
       "<table border=\"1\" class=\"dataframe\">\n",
       "  <thead>\n",
       "    <tr style=\"text-align: right;\">\n",
       "      <th></th>\n",
       "      <th>all_cnt</th>\n",
       "      <th>old_cnt</th>\n",
       "      <th>adult_cnt</th>\n",
       "      <th>young_cnt</th>\n",
       "      <th>건물연면적</th>\n",
       "      <th>ws_cnt</th>\n",
       "      <th>cnt_market</th>\n",
       "      <th>cnt_busstop</th>\n",
       "      <th>cnt_subway</th>\n",
       "      <th>cnt_clinic</th>\n",
       "      <th>...</th>\n",
       "      <th>y_매출액평균</th>\n",
       "      <th>y_분기별매출액평균_03</th>\n",
       "      <th>y_분기별매출액평균_06</th>\n",
       "      <th>y_분기별매출액평균_09</th>\n",
       "      <th>y_분기별매출액평균_12</th>\n",
       "      <th>y_연도별매출액평균_17</th>\n",
       "      <th>y_연도별매출액평균_18</th>\n",
       "      <th>y_연도별매출액평균_19</th>\n",
       "      <th>y_연도별매출액평균_20</th>\n",
       "      <th>hotspot</th>\n",
       "    </tr>\n",
       "  </thead>\n",
       "  <tbody>\n",
       "    <tr>\n",
       "      <th>count</th>\n",
       "      <td>1213.000000</td>\n",
       "      <td>1213.000000</td>\n",
       "      <td>1213.000000</td>\n",
       "      <td>1213.000000</td>\n",
       "      <td>1213.000000</td>\n",
       "      <td>1213.000000</td>\n",
       "      <td>1213.000000</td>\n",
       "      <td>1213.000000</td>\n",
       "      <td>1213.000000</td>\n",
       "      <td>1213.000000</td>\n",
       "      <td>...</td>\n",
       "      <td>1213.000000</td>\n",
       "      <td>1213.000000</td>\n",
       "      <td>1213.000000</td>\n",
       "      <td>1213.000000</td>\n",
       "      <td>1213.000000</td>\n",
       "      <td>1213.000000</td>\n",
       "      <td>1213.000000</td>\n",
       "      <td>1213.000000</td>\n",
       "      <td>1213.000000</td>\n",
       "      <td>1213.000000</td>\n",
       "    </tr>\n",
       "    <tr>\n",
       "      <th>mean</th>\n",
       "      <td>848.609233</td>\n",
       "      <td>114.469909</td>\n",
       "      <td>608.206925</td>\n",
       "      <td>113.825227</td>\n",
       "      <td>21510.481088</td>\n",
       "      <td>17.137675</td>\n",
       "      <td>32.896125</td>\n",
       "      <td>1.970322</td>\n",
       "      <td>0.019786</td>\n",
       "      <td>0.791426</td>\n",
       "      <td>...</td>\n",
       "      <td>7128.746963</td>\n",
       "      <td>6687.581410</td>\n",
       "      <td>7236.233512</td>\n",
       "      <td>7210.527205</td>\n",
       "      <td>7464.611981</td>\n",
       "      <td>5968.670857</td>\n",
       "      <td>7206.146331</td>\n",
       "      <td>7907.442086</td>\n",
       "      <td>7534.055785</td>\n",
       "      <td>0.096455</td>\n",
       "    </tr>\n",
       "    <tr>\n",
       "      <th>std</th>\n",
       "      <td>1746.789598</td>\n",
       "      <td>248.789757</td>\n",
       "      <td>1260.991127</td>\n",
       "      <td>267.255926</td>\n",
       "      <td>40714.175680</td>\n",
       "      <td>55.012540</td>\n",
       "      <td>96.934111</td>\n",
       "      <td>2.603459</td>\n",
       "      <td>0.166316</td>\n",
       "      <td>3.793149</td>\n",
       "      <td>...</td>\n",
       "      <td>26055.939157</td>\n",
       "      <td>25126.947931</td>\n",
       "      <td>26126.351903</td>\n",
       "      <td>26166.517970</td>\n",
       "      <td>27143.590547</td>\n",
       "      <td>22288.281324</td>\n",
       "      <td>26490.979259</td>\n",
       "      <td>29122.593101</td>\n",
       "      <td>27149.706179</td>\n",
       "      <td>0.295336</td>\n",
       "    </tr>\n",
       "    <tr>\n",
       "      <th>min</th>\n",
       "      <td>0.000000</td>\n",
       "      <td>0.000000</td>\n",
       "      <td>0.000000</td>\n",
       "      <td>0.000000</td>\n",
       "      <td>0.000000</td>\n",
       "      <td>0.000000</td>\n",
       "      <td>1.000000</td>\n",
       "      <td>0.000000</td>\n",
       "      <td>0.000000</td>\n",
       "      <td>0.000000</td>\n",
       "      <td>...</td>\n",
       "      <td>0.000000</td>\n",
       "      <td>0.000000</td>\n",
       "      <td>0.000000</td>\n",
       "      <td>0.000000</td>\n",
       "      <td>0.000000</td>\n",
       "      <td>0.000000</td>\n",
       "      <td>0.000000</td>\n",
       "      <td>0.000000</td>\n",
       "      <td>0.000000</td>\n",
       "      <td>0.000000</td>\n",
       "    </tr>\n",
       "    <tr>\n",
       "      <th>25%</th>\n",
       "      <td>13.000000</td>\n",
       "      <td>0.000000</td>\n",
       "      <td>6.000000</td>\n",
       "      <td>0.000000</td>\n",
       "      <td>1810.760000</td>\n",
       "      <td>0.000000</td>\n",
       "      <td>2.000000</td>\n",
       "      <td>0.000000</td>\n",
       "      <td>0.000000</td>\n",
       "      <td>0.000000</td>\n",
       "      <td>...</td>\n",
       "      <td>0.000000</td>\n",
       "      <td>0.000000</td>\n",
       "      <td>0.000000</td>\n",
       "      <td>0.000000</td>\n",
       "      <td>0.000000</td>\n",
       "      <td>0.000000</td>\n",
       "      <td>0.000000</td>\n",
       "      <td>0.000000</td>\n",
       "      <td>0.000000</td>\n",
       "      <td>0.000000</td>\n",
       "    </tr>\n",
       "    <tr>\n",
       "      <th>50%</th>\n",
       "      <td>67.000000</td>\n",
       "      <td>8.000000</td>\n",
       "      <td>40.000000</td>\n",
       "      <td>0.000000</td>\n",
       "      <td>4465.710000</td>\n",
       "      <td>0.000000</td>\n",
       "      <td>5.000000</td>\n",
       "      <td>1.000000</td>\n",
       "      <td>0.000000</td>\n",
       "      <td>0.000000</td>\n",
       "      <td>...</td>\n",
       "      <td>0.000000</td>\n",
       "      <td>0.000000</td>\n",
       "      <td>0.000000</td>\n",
       "      <td>0.000000</td>\n",
       "      <td>0.000000</td>\n",
       "      <td>0.000000</td>\n",
       "      <td>0.000000</td>\n",
       "      <td>0.000000</td>\n",
       "      <td>0.000000</td>\n",
       "      <td>0.000000</td>\n",
       "    </tr>\n",
       "    <tr>\n",
       "      <th>75%</th>\n",
       "      <td>596.000000</td>\n",
       "      <td>77.000000</td>\n",
       "      <td>414.000000</td>\n",
       "      <td>55.000000</td>\n",
       "      <td>17989.890000</td>\n",
       "      <td>8.000000</td>\n",
       "      <td>20.000000</td>\n",
       "      <td>3.000000</td>\n",
       "      <td>0.000000</td>\n",
       "      <td>0.000000</td>\n",
       "      <td>...</td>\n",
       "      <td>2979.533333</td>\n",
       "      <td>2462.500000</td>\n",
       "      <td>3048.500000</td>\n",
       "      <td>3124.750000</td>\n",
       "      <td>3196.333333</td>\n",
       "      <td>2365.750000</td>\n",
       "      <td>2922.750000</td>\n",
       "      <td>3274.500000</td>\n",
       "      <td>3184.000000</td>\n",
       "      <td>0.000000</td>\n",
       "    </tr>\n",
       "    <tr>\n",
       "      <th>max</th>\n",
       "      <td>11734.000000</td>\n",
       "      <td>2135.000000</td>\n",
       "      <td>8472.000000</td>\n",
       "      <td>2182.000000</td>\n",
       "      <td>350462.070000</td>\n",
       "      <td>600.000000</td>\n",
       "      <td>1217.000000</td>\n",
       "      <td>18.000000</td>\n",
       "      <td>3.000000</td>\n",
       "      <td>46.000000</td>\n",
       "      <td>...</td>\n",
       "      <td>443717.800000</td>\n",
       "      <td>439361.250000</td>\n",
       "      <td>434969.500000</td>\n",
       "      <td>449432.000000</td>\n",
       "      <td>453572.000000</td>\n",
       "      <td>393261.000000</td>\n",
       "      <td>464547.750000</td>\n",
       "      <td>490119.000000</td>\n",
       "      <td>421352.000000</td>\n",
       "      <td>1.000000</td>\n",
       "    </tr>\n",
       "  </tbody>\n",
       "</table>\n",
       "<p>8 rows × 26 columns</p>\n",
       "</div>"
      ],
      "text/plain": [
       "            all_cnt      old_cnt    adult_cnt    young_cnt          건물연면적  \\\n",
       "count   1213.000000  1213.000000  1213.000000  1213.000000    1213.000000   \n",
       "mean     848.609233   114.469909   608.206925   113.825227   21510.481088   \n",
       "std     1746.789598   248.789757  1260.991127   267.255926   40714.175680   \n",
       "min        0.000000     0.000000     0.000000     0.000000       0.000000   \n",
       "25%       13.000000     0.000000     6.000000     0.000000    1810.760000   \n",
       "50%       67.000000     8.000000    40.000000     0.000000    4465.710000   \n",
       "75%      596.000000    77.000000   414.000000    55.000000   17989.890000   \n",
       "max    11734.000000  2135.000000  8472.000000  2182.000000  350462.070000   \n",
       "\n",
       "            ws_cnt   cnt_market  cnt_busstop   cnt_subway   cnt_clinic  ...  \\\n",
       "count  1213.000000  1213.000000  1213.000000  1213.000000  1213.000000  ...   \n",
       "mean     17.137675    32.896125     1.970322     0.019786     0.791426  ...   \n",
       "std      55.012540    96.934111     2.603459     0.166316     3.793149  ...   \n",
       "min       0.000000     1.000000     0.000000     0.000000     0.000000  ...   \n",
       "25%       0.000000     2.000000     0.000000     0.000000     0.000000  ...   \n",
       "50%       0.000000     5.000000     1.000000     0.000000     0.000000  ...   \n",
       "75%       8.000000    20.000000     3.000000     0.000000     0.000000  ...   \n",
       "max     600.000000  1217.000000    18.000000     3.000000    46.000000  ...   \n",
       "\n",
       "             y_매출액평균  y_분기별매출액평균_03  y_분기별매출액평균_06  y_분기별매출액평균_09  \\\n",
       "count    1213.000000    1213.000000    1213.000000    1213.000000   \n",
       "mean     7128.746963    6687.581410    7236.233512    7210.527205   \n",
       "std     26055.939157   25126.947931   26126.351903   26166.517970   \n",
       "min         0.000000       0.000000       0.000000       0.000000   \n",
       "25%         0.000000       0.000000       0.000000       0.000000   \n",
       "50%         0.000000       0.000000       0.000000       0.000000   \n",
       "75%      2979.533333    2462.500000    3048.500000    3124.750000   \n",
       "max    443717.800000  439361.250000  434969.500000  449432.000000   \n",
       "\n",
       "       y_분기별매출액평균_12  y_연도별매출액평균_17  y_연도별매출액평균_18  y_연도별매출액평균_19  \\\n",
       "count    1213.000000    1213.000000    1213.000000    1213.000000   \n",
       "mean     7464.611981    5968.670857    7206.146331    7907.442086   \n",
       "std     27143.590547   22288.281324   26490.979259   29122.593101   \n",
       "min         0.000000       0.000000       0.000000       0.000000   \n",
       "25%         0.000000       0.000000       0.000000       0.000000   \n",
       "50%         0.000000       0.000000       0.000000       0.000000   \n",
       "75%      3196.333333    2365.750000    2922.750000    3274.500000   \n",
       "max    453572.000000  393261.000000  464547.750000  490119.000000   \n",
       "\n",
       "       y_연도별매출액평균_20      hotspot  \n",
       "count    1213.000000  1213.000000  \n",
       "mean     7534.055785     0.096455  \n",
       "std     27149.706179     0.295336  \n",
       "min         0.000000     0.000000  \n",
       "25%         0.000000     0.000000  \n",
       "50%         0.000000     0.000000  \n",
       "75%      3184.000000     0.000000  \n",
       "max    421352.000000     1.000000  \n",
       "\n",
       "[8 rows x 26 columns]"
      ]
     },
     "execution_count": 7,
     "metadata": {},
     "output_type": "execute_result"
    }
   ],
   "source": [
    "a =final['cnt_market'] > 0\n",
    "exist= final[a]\n",
    "exist.describe()"
   ]
  },
  {
   "cell_type": "markdown",
   "metadata": {},
   "source": [
    "## 로지스틱회귀분석(핫스팟)"
   ]
  },
  {
   "cell_type": "code",
   "execution_count": 8,
   "metadata": {},
   "outputs": [],
   "source": [
    "x=exist[['all_cnt', 'old_cnt', 'adult_cnt', 'young_cnt', '건물연면적',\n",
    "       'ws_cnt','cnt_market', 'cnt_busstop', 'cnt_subway', 'cnt_clinic', 'cnt_hospital',\n",
    "       'cnt_element_s', 'cnt_middles_s', 'cnt_high_s', 'cnt_university',\n",
    "       'cnt_landmark']]\n",
    "y=exist['hotspot']"
   ]
  },
  {
   "cell_type": "code",
   "execution_count": 9,
   "metadata": {},
   "outputs": [
    {
     "name": "stdout",
     "output_type": "stream",
     "text": [
      "percentage of hotspot is 9.64550700741962 %\n"
     ]
    }
   ],
   "source": [
    "count_0 = len(exist[exist['hotspot']==0])\n",
    "count_1 = len(exist[exist['hotspot']==1])\n",
    "pct_of_1 = count_1/(count_0+count_1)\n",
    "print(\"percentage of hotspot is\", pct_of_1*100,\"%\")"
   ]
  },
  {
   "cell_type": "code",
   "execution_count": 10,
   "metadata": {},
   "outputs": [
    {
     "name": "stdout",
     "output_type": "stream",
     "text": [
      "length of oversampled data is  1746\n",
      "Number of no hotspot in oversampled data 873\n",
      "Number of hotspot 873\n",
      "Proportion of no hotspot data in oversampled data is  0.5\n",
      "Proportion of hptspot data in oversampled data is  0.5\n"
     ]
    }
   ],
   "source": [
    "from imblearn.over_sampling import SMOTE\n",
    "os = SMOTE(random_state=0)\n",
    "X_train, X_test, y_train, y_test = train_test_split(x, y, test_size=0.2, random_state=0)\n",
    "columns = X_train.columns\n",
    "os_data_X,os_data_y=os.fit_sample(X_train, y_train)\n",
    "os_data_X = pd.DataFrame(data=os_data_X,columns=columns )\n",
    "os_data_y= pd.DataFrame(data=os_data_y,columns=['hotspot'])\n",
    "\n",
    "print(\"length of oversampled data is \",len(os_data_X))\n",
    "print(\"Number of no hotspot in oversampled data\",len(os_data_y[os_data_y['hotspot']==0]))\n",
    "print(\"Number of hotspot\",len(os_data_y[os_data_y['hotspot']==1]))\n",
    "print(\"Proportion of no hotspot data in oversampled data is \",len(os_data_y[os_data_y['hotspot']==0])/len(os_data_X))\n",
    "print(\"Proportion of hptspot data in oversampled data is \",len(os_data_y[os_data_y['hotspot']==1])/len(os_data_X))"
   ]
  },
  {
   "cell_type": "code",
   "execution_count": 11,
   "metadata": {},
   "outputs": [],
   "source": [
    "x=exist[['all_cnt', 'old_cnt', 'adult_cnt', 'young_cnt', '건물연면적',\n",
    "       'ws_cnt','cnt_market', 'cnt_busstop', 'cnt_subway', 'cnt_clinic', 'cnt_hospital',\n",
    "       'cnt_element_s', 'cnt_middles_s', 'cnt_high_s', 'cnt_university',\n",
    "       'cnt_landmark']]\n",
    "y=exist['hotspot']"
   ]
  },
  {
   "cell_type": "code",
   "execution_count": 12,
   "metadata": {},
   "outputs": [
    {
     "name": "stdout",
     "output_type": "stream",
     "text": [
      "[ True  True  True  True  True  True  True  True  True  True  True  True\n",
      "  True  True  True  True]\n",
      "[1 1 1 1 1 1 1 1 1 1 1 1 1 1 1 1]\n"
     ]
    },
    {
     "name": "stderr",
     "output_type": "stream",
     "text": [
      "/opt/app-root/lib/python3.6/site-packages/sklearn/linear_model/_logistic.py:764: ConvergenceWarning: lbfgs failed to converge (status=1):\n",
      "STOP: TOTAL NO. of ITERATIONS REACHED LIMIT.\n",
      "\n",
      "Increase the number of iterations (max_iter) or scale the data as shown in:\n",
      "    https://scikit-learn.org/stable/modules/preprocessing.html\n",
      "Please also refer to the documentation for alternative solver options:\n",
      "    https://scikit-learn.org/stable/modules/linear_model.html#logistic-regression\n",
      "  extra_warning_msg=_LOGISTIC_SOLVER_CONVERGENCE_MSG)\n"
     ]
    }
   ],
   "source": [
    "###RFE\n",
    "from sklearn.feature_selection import RFE\n",
    "from sklearn.linear_model import LogisticRegression\n",
    "\n",
    "\n",
    "y=['hotspot']\n",
    "X=['traffic_b', 'traffic_s', 'schools','university','medical','landmark', 'population_all',\n",
    "       'population_adult', 'store_ws', 'store_mk']\n",
    "\n",
    "logreg = LogisticRegression()\n",
    "   \n",
    "rfe = RFE(logreg, 16)\n",
    "rfe = rfe.fit(os_data_X, os_data_y.values.ravel())\n",
    "print(rfe.support_)\n",
    "print(rfe.ranking_)"
   ]
  },
  {
   "cell_type": "code",
   "execution_count": 13,
   "metadata": {},
   "outputs": [],
   "source": [
    "cols=['all_cnt', 'old_cnt', 'adult_cnt', 'young_cnt', '건물연면적',\n",
    "       'ws_cnt','cnt_market', 'cnt_busstop', 'cnt_subway', 'cnt_clinic', 'cnt_hospital',\n",
    "       'cnt_element_s', 'cnt_middles_s', 'cnt_high_s', 'cnt_university',\n",
    "       'cnt_landmark']\n",
    "X=os_data_X[cols]\n",
    "y=os_data_y['hotspot']"
   ]
  },
  {
   "cell_type": "code",
   "execution_count": 14,
   "metadata": {},
   "outputs": [
    {
     "name": "stdout",
     "output_type": "stream",
     "text": [
      "Warning: Maximum number of iterations has been exceeded.\n",
      "         Current function value: 0.332720\n",
      "         Iterations: 35\n"
     ]
    },
    {
     "name": "stderr",
     "output_type": "stream",
     "text": [
      "/opt/app-root/lib/python3.6/site-packages/statsmodels/base/model.py:568: ConvergenceWarning: Maximum Likelihood optimization failed to converge. Check mle_retvals\n",
      "  ConvergenceWarning)\n"
     ]
    },
    {
     "name": "stdout",
     "output_type": "stream",
     "text": [
      "                             Results: Logit\n",
      "=========================================================================\n",
      "Model:                 Logit              Pseudo R-squared:   0.520      \n",
      "Dependent Variable:    hotspot            AIC:                1193.8599  \n",
      "Date:                  2021-01-28 07:02   BIC:                1281.3012  \n",
      "No. Observations:      1746               Log-Likelihood:     -580.93    \n",
      "Df Model:              15                 LL-Null:            -1210.2    \n",
      "Df Residuals:          1730               LLR p-value:        4.1808e-259\n",
      "Converged:             0.0000             Scale:              1.0000     \n",
      "No. Iterations:        35.0000                                           \n",
      "-------------------------------------------------------------------------\n",
      "                Coef.    Std.Err.     z     P>|z|     [0.025     0.975]  \n",
      "-------------------------------------------------------------------------\n",
      "all_cnt         -0.1283     0.0092 -13.9296 0.0000     -0.1463    -0.1102\n",
      "old_cnt          0.1290     0.0092  13.9670 0.0000      0.1109     0.1471\n",
      "adult_cnt        0.1299     0.0093  13.9933 0.0000      0.1117     0.1481\n",
      "young_cnt        0.1234     0.0090  13.7137 0.0000      0.1058     0.1410\n",
      "건물연면적           -0.0000     0.0000  -3.4325 0.0006     -0.0000    -0.0000\n",
      "ws_cnt           0.0197     0.0074   2.6643 0.0077      0.0052     0.0341\n",
      "cnt_market       0.0193     0.0048   4.0256 0.0001      0.0099     0.0287\n",
      "cnt_busstop     -0.0401     0.0393  -1.0197 0.3079     -0.1172     0.0370\n",
      "cnt_subway      -1.7634     0.4070  -4.3328 0.0000     -2.5612    -0.9657\n",
      "cnt_clinic      -0.2579     0.0491  -5.2557 0.0000     -0.3541    -0.1617\n",
      "cnt_hospital    -0.4956     0.3667  -1.3515 0.1765     -1.2143     0.2231\n",
      "cnt_element_s   -0.8599     0.2976  -2.8897 0.0039     -1.4432    -0.2767\n",
      "cnt_middles_s   -0.8250     0.4549  -1.8138 0.0697     -1.7166     0.0665\n",
      "cnt_high_s       0.6474     0.5571   1.1620 0.2453     -0.4446     1.7394\n",
      "cnt_university -19.9596 18765.8842  -0.0011 0.9992 -36800.4167 36760.4975\n",
      "cnt_landmark    -3.1957     1.0221  -3.1265 0.0018     -5.1991    -1.1924\n",
      "=========================================================================\n",
      "\n"
     ]
    }
   ],
   "source": [
    "import statsmodels.api as sm\n",
    "logit_model=sm.Logit(y,X)\n",
    "result=logit_model.fit()\n",
    "print(result.summary2())"
   ]
  },
  {
   "cell_type": "code",
   "execution_count": 15,
   "metadata": {},
   "outputs": [],
   "source": [
    "cols=['all_cnt', 'old_cnt', 'adult_cnt', 'young_cnt', '건물연면적',\n",
    "       'cnt_market', 'cnt_subway', 'cnt_clinic', \n",
    "       'cnt_element_s','cnt_landmark']\n",
    "X=os_data_X[cols]\n",
    "y=os_data_y['hotspot']"
   ]
  },
  {
   "cell_type": "code",
   "execution_count": 16,
   "metadata": {},
   "outputs": [
    {
     "name": "stdout",
     "output_type": "stream",
     "text": [
      "Optimization terminated successfully.\n",
      "         Current function value: 0.340121\n",
      "         Iterations 9\n",
      "                          Results: Logit\n",
      "==================================================================\n",
      "Model:              Logit            Pseudo R-squared: 0.509      \n",
      "Dependent Variable: hotspot          AIC:              1207.7027  \n",
      "Date:               2021-01-28 07:04 BIC:              1262.3535  \n",
      "No. Observations:   1746             Log-Likelihood:   -593.85    \n",
      "Df Model:           9                LL-Null:          -1210.2    \n",
      "Df Residuals:       1736             LLR p-value:      1.0216e-259\n",
      "Converged:          1.0000           Scale:            1.0000     \n",
      "No. Iterations:     9.0000                                        \n",
      "------------------------------------------------------------------\n",
      "                   Coef.  Std.Err.    z     P>|z|   [0.025  0.975]\n",
      "------------------------------------------------------------------\n",
      "all_cnt           -0.1293   0.0086 -15.0576 0.0000 -0.1462 -0.1125\n",
      "old_cnt            0.1299   0.0086  15.1216 0.0000  0.1130  0.1467\n",
      "adult_cnt          0.1309   0.0087  15.0927 0.0000  0.1139  0.1479\n",
      "young_cnt          0.1253   0.0084  14.9051 0.0000  0.1088  0.1418\n",
      "건물연면적             -0.0000   0.0000  -4.6151 0.0000 -0.0000 -0.0000\n",
      "cnt_market         0.0281   0.0030   9.4491 0.0000  0.0223  0.0340\n",
      "cnt_subway        -1.5714   0.3772  -4.1660 0.0000 -2.3107 -0.8321\n",
      "cnt_clinic        -0.1606   0.0397  -4.0416 0.0001 -0.2385 -0.0827\n",
      "cnt_element_s     -1.0759   0.2858  -3.7650 0.0002 -1.6361 -0.5158\n",
      "cnt_landmark      -3.4347   1.0330  -3.3250 0.0009 -5.4593 -1.4100\n",
      "==================================================================\n",
      "\n"
     ]
    }
   ],
   "source": [
    "import statsmodels.api as sm\n",
    "logit_model=sm.Logit(y,X)\n",
    "result=logit_model.fit()\n",
    "print(result.summary2())"
   ]
  },
  {
   "cell_type": "code",
   "execution_count": 17,
   "metadata": {},
   "outputs": [
    {
     "name": "stderr",
     "output_type": "stream",
     "text": [
      "/opt/app-root/lib/python3.6/site-packages/sklearn/linear_model/_logistic.py:764: ConvergenceWarning: lbfgs failed to converge (status=1):\n",
      "STOP: TOTAL NO. of ITERATIONS REACHED LIMIT.\n",
      "\n",
      "Increase the number of iterations (max_iter) or scale the data as shown in:\n",
      "    https://scikit-learn.org/stable/modules/preprocessing.html\n",
      "Please also refer to the documentation for alternative solver options:\n",
      "    https://scikit-learn.org/stable/modules/linear_model.html#logistic-regression\n",
      "  extra_warning_msg=_LOGISTIC_SOLVER_CONVERGENCE_MSG)\n"
     ]
    },
    {
     "data": {
      "text/plain": [
       "LogisticRegression()"
      ]
     },
     "execution_count": 17,
     "metadata": {},
     "output_type": "execute_result"
    }
   ],
   "source": [
    "from sklearn.linear_model import LogisticRegression\n",
    "from sklearn import metrics\n",
    "X_train, X_test, y_train, y_test = train_test_split(X, y, test_size=0.3, random_state=0)\n",
    "logreg = LogisticRegression()\n",
    "logreg.fit(X_train, y_train)"
   ]
  },
  {
   "cell_type": "code",
   "execution_count": 18,
   "metadata": {},
   "outputs": [
    {
     "name": "stdout",
     "output_type": "stream",
     "text": [
      "test set에 대한 분류기 정확도: 0.80\n"
     ]
    }
   ],
   "source": [
    "y_pred = logreg.predict(X_test)\n",
    "print('test set에 대한 분류기 정확도: {:.2f}'.format(logreg.score(X_test, y_test)))"
   ]
  },
  {
   "cell_type": "code",
   "execution_count": 21,
   "metadata": {},
   "outputs": [
    {
     "data": {
      "image/png": "[encoded data removed]",
      "text/plain": [
       "<Figure size 432x288 with 1 Axes>"
      ]
     },
     "metadata": {
      "needs_background": "light"
     },
     "output_type": "display_data"
    }
   ],
   "source": [
    "##ROC Curve\n",
    "from sklearn.metrics import roc_auc_score\n",
    "from sklearn.metrics import roc_curve\n",
    "logit_roc_auc = roc_auc_score(y_test, logreg.predict(X_test))\n",
    "fpr, tpr, thresholds = roc_curve(y_test, logreg.predict_proba(X_test)[:,1])\n",
    "plt.figure()\n",
    "plt.plot(fpr, tpr, label='Logistic Regression (auc = %0.2f)' % logit_roc_auc)\n",
    "plt.plot([0, 1], [0, 1],'r--')\n",
    "plt.xlim([0.0, 1.0])\n",
    "plt.ylim([0.0, 1.05])\n",
    "plt.xlabel('False Positive Rate')\n",
    "plt.ylabel('True Positive Rate')\n",
    "plt.legend()\n",
    "plt.savefig('Log_ROC')\n",
    "plt.show()"
   ]
  },
  {
   "cell_type": "markdown",
   "metadata": {},
   "source": [
    "##로지스틱(핫스팟) : 'all_cnt', 'old_cnt', 'adult_cnt', 'young_cnt', '건물연면적', 'cnt_market', 'cnt_subway', 'cnt_clinic', cnt_element_s','cnt_landmark'\n",
    "\n",
    "LLR p-value:1.0216e-259.  예측력: 0.81"
   ]
  },
  {
   "cell_type": "code",
   "execution_count": 23,
   "metadata": {},
   "outputs": [
    {
     "data": {
      "text/plain": [
       "all_cnt          0.878676\n",
       "old_cnt          1.138669\n",
       "adult_cnt        1.139813\n",
       "young_cnt        1.133514\n",
       "건물연면적            0.999987\n",
       "cnt_market       1.028548\n",
       "cnt_subway       0.207747\n",
       "cnt_clinic       0.851616\n",
       "cnt_element_s    0.340975\n",
       "cnt_landmark     0.032236\n",
       "dtype: float64"
      ]
     },
     "execution_count": 23,
     "metadata": {},
     "output_type": "execute_result"
    }
   ],
   "source": [
    "np.exp(result.params)#오즈비"
   ]
  },
  {
   "cell_type": "code",
   "execution_count": 24,
   "metadata": {
    "scrolled": true
   },
   "outputs": [
    {
     "data": {
      "text/plain": [
       "all_cnt           1.138076\n",
       "old_cnt           0.878219\n",
       "adult_cnt         0.877337\n",
       "young_cnt         0.882212\n",
       "건물연면적             1.000013\n",
       "cnt_market        0.972244\n",
       "cnt_subway        4.813556\n",
       "cnt_clinic        1.174238\n",
       "cnt_element_s     2.932763\n",
       "cnt_landmark     31.021250\n",
       "dtype: float64"
      ]
     },
     "execution_count": 24,
     "metadata": {},
     "output_type": "execute_result"
    }
   ],
   "source": [
    "1/np.exp(result.params)#오즈비 역수"
   ]
  },
  {
   "cell_type": "markdown",
   "metadata": {},
   "source": [
    "오즈비를 통해 y(핫스팟)에 미치는 영향을 보니, cnt_landmark가 가장 멀리 떨어져있고 0.03으로 아주 강한 영향을 주는 관계임을 알 수 있었다.\n",
    "또한 cnt_subway, cnt_element_s도 큰 영향을 주고, 나머지 변수들은 1에 매우 가까워 별다른 영향을 크게 주지 않았음을 확인할 수 있었다."
   ]
  }
 ],
 "metadata": {
  "kernelspec": {
   "display_name": "Python 3",
   "language": "python",
   "name": "python3"
  },
  "language_info": {
   "codemirror_mode": {
    "name": "ipython",
    "version": 3
   },
   "file_extension": ".py",
   "mimetype": "text/x-python",
   "name": "python",
   "nbconvert_exporter": "python",
   "pygments_lexer": "ipython3",
   "version": "3.6.9"
  }
 },
 "nbformat": 4,
 "nbformat_minor": 2
}
